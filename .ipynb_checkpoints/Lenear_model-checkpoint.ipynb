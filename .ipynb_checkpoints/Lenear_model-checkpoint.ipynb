{
 "cells": [
  {
   "cell_type": "markdown",
   "id": "25b37b9d-073d-4bcc-b0bb-1f4e78ebf833",
   "metadata": {},
   "source": [
    "<h5 style=\"color:rgba(0, 0, 178, 0.6);\">This code hidden warrnings</h5>"
   ]
  },
  {
   "cell_type": "code",
   "execution_count": 1,
   "id": "2fdbc950-9f44-4676-9121-0f1f0cfe169a",
   "metadata": {},
   "outputs": [],
   "source": [
    "import warnings\n",
    "warnings.filterwarnings('ignore')"
   ]
  },
  {
   "cell_type": "markdown",
   "id": "7e8469e6-f256-403d-a915-f3604a9bdfec",
   "metadata": {},
   "source": [
    "<h5 style=\"color:rgba(0, 0, 178, 0.6);\">Install librarys that we need</h5>"
   ]
  },
  {
   "cell_type": "code",
   "execution_count": 12,
   "id": "d65697f5-85e1-46e7-b3f3-8b723917079f",
   "metadata": {},
   "outputs": [
    {
     "data": {
      "text/plain": [
       "'2.17.0'"
      ]
     },
     "execution_count": 12,
     "metadata": {},
     "output_type": "execute_result"
    }
   ],
   "source": [
    "import numpy as np\n",
    "import pandas as pd\n",
    "import matplotlib.pyplot as plt\n",
    "plt.style.use(\"bmh\")\n",
    "from tensorflow import keras\n",
    "from sklearn.cluster import KMeans\n",
    "import random\n",
    "import tensorflow as tf\n",
    "from sklearn.metrics import r2_score\n",
    "from sklearn.preprocessing import MinMaxScaler\n",
    "from sklearn.preprocessing import StandardScaler\n",
    "from Data_Prepear import data_prepear\n",
    "from sklearn.linear_model import LinearRegression\n",
    "tf.__version__"
   ]
  },
  {
   "cell_type": "code",
   "execution_count": 3,
   "id": "790a20e4-9280-4574-bfa3-e669701c0105",
   "metadata": {},
   "outputs": [
    {
     "data": {
      "text/html": [
       "<div>\n",
       "<style scoped>\n",
       "    .dataframe tbody tr th:only-of-type {\n",
       "        vertical-align: middle;\n",
       "    }\n",
       "\n",
       "    .dataframe tbody tr th {\n",
       "        vertical-align: top;\n",
       "    }\n",
       "\n",
       "    .dataframe thead th {\n",
       "        text-align: right;\n",
       "    }\n",
       "</style>\n",
       "<table border=\"1\" class=\"dataframe\">\n",
       "  <thead>\n",
       "    <tr style=\"text-align: right;\">\n",
       "      <th></th>\n",
       "      <th>bhp</th>\n",
       "      <th>bht</th>\n",
       "      <th>dp_tubing</th>\n",
       "      <th>AVG_CHOKE_SIZE_P</th>\n",
       "      <th>QG</th>\n",
       "      <th>Time</th>\n",
       "    </tr>\n",
       "    <tr>\n",
       "      <th>date</th>\n",
       "      <th></th>\n",
       "      <th></th>\n",
       "      <th></th>\n",
       "      <th></th>\n",
       "      <th></th>\n",
       "      <th></th>\n",
       "    </tr>\n",
       "  </thead>\n",
       "  <tbody>\n",
       "    <tr>\n",
       "      <th>2013-07-31</th>\n",
       "      <td>273.946931</td>\n",
       "      <td>105.551370</td>\n",
       "      <td>179.382345</td>\n",
       "      <td>2.540804</td>\n",
       "      <td>137705.269214</td>\n",
       "      <td>7</td>\n",
       "    </tr>\n",
       "    <tr>\n",
       "      <th>2013-08-03</th>\n",
       "      <td>277.797679</td>\n",
       "      <td>104.933215</td>\n",
       "      <td>181.302141</td>\n",
       "      <td>6.116182</td>\n",
       "      <td>141268.448264</td>\n",
       "      <td>10</td>\n",
       "    </tr>\n",
       "    <tr>\n",
       "      <th>2013-08-04</th>\n",
       "      <td>273.594368</td>\n",
       "      <td>105.439765</td>\n",
       "      <td>177.392876</td>\n",
       "      <td>9.951288</td>\n",
       "      <td>161227.000000</td>\n",
       "      <td>11</td>\n",
       "    </tr>\n",
       "    <tr>\n",
       "      <th>2013-08-05</th>\n",
       "      <td>272.298494</td>\n",
       "      <td>105.537800</td>\n",
       "      <td>176.786078</td>\n",
       "      <td>9.758748</td>\n",
       "      <td>160270.490000</td>\n",
       "      <td>12</td>\n",
       "    </tr>\n",
       "    <tr>\n",
       "      <th>2013-08-06</th>\n",
       "      <td>271.560953</td>\n",
       "      <td>105.584750</td>\n",
       "      <td>176.519376</td>\n",
       "      <td>9.882110</td>\n",
       "      <td>160951.300000</td>\n",
       "      <td>13</td>\n",
       "    </tr>\n",
       "  </tbody>\n",
       "</table>\n",
       "</div>"
      ],
      "text/plain": [
       "                   bhp         bht   dp_tubing  AVG_CHOKE_SIZE_P  \\\n",
       "date                                                               \n",
       "2013-07-31  273.946931  105.551370  179.382345          2.540804   \n",
       "2013-08-03  277.797679  104.933215  181.302141          6.116182   \n",
       "2013-08-04  273.594368  105.439765  177.392876          9.951288   \n",
       "2013-08-05  272.298494  105.537800  176.786078          9.758748   \n",
       "2013-08-06  271.560953  105.584750  176.519376          9.882110   \n",
       "\n",
       "                       QG  Time  \n",
       "date                             \n",
       "2013-07-31  137705.269214     7  \n",
       "2013-08-03  141268.448264    10  \n",
       "2013-08-04  161227.000000    11  \n",
       "2013-08-05  160270.490000    12  \n",
       "2013-08-06  160951.300000    13  "
      ]
     },
     "execution_count": 3,
     "metadata": {},
     "output_type": "execute_result"
    }
   ],
   "source": [
    "# read the orginal data from the csv file\n",
    "df1 = pd.read_csv(\"well2.csv\")\n",
    "df1['date'] = pd.to_datetime(df1['date'], errors='coerce') #convert date column to datetime format\n",
    "df1 = df1[(df1[\"dp_tubing\"] > 100) & (df1[\"bhp\"] > 200) & (df1[\"bht\"] > 80)]\n",
    "# =========================================\n",
    "# create a dummy date time with freq = 1D to see which days we have no data\n",
    "df = pd.DataFrame({\n",
    "    'date': pd.date_range(start='2013-07-24', periods=1152, freq='D')\n",
    "})\n",
    "# =========================================\n",
    "# Merge on the 'date' column, using 'left' join to keep all dates from df1\n",
    "df = df.merge(df1, on='date', how='left')\n",
    "\n",
    "df = df[[\n",
    "    \"date\", \"bhp\", \"bht\",\n",
    "    \"dp_tubing\", \"AVG_CHOKE_SIZE_P\",\n",
    "    \"QG\"]]\n",
    "df.set_index('date', inplace=True)\n",
    "df['Time'] = np.arange(len(df.index))\n",
    "df.dropna(inplace=True)\n",
    "df.head()"
   ]
  },
  {
   "cell_type": "code",
   "execution_count": 4,
   "id": "bd901d7c-49eb-4ae3-8102-2cc478eeed74",
   "metadata": {},
   "outputs": [],
   "source": [
    "create_data = data_prepear(df, target_col =\"QG\")\n",
    "X, y = create_data.creator()"
   ]
  },
  {
   "cell_type": "code",
   "execution_count": 5,
   "id": "d699e0a0-3b71-4a74-beda-f9435272c9a1",
   "metadata": {},
   "outputs": [],
   "source": [
    "# Split into trai (70 a (30%)\n",
    "nrow = round(0.7*X.shape[0])\n",
    "X_train = X.iloc[:nrow, :]\n",
    "y_train = y[:nrow]\n",
    "X_test = X.iloc[nrow:,:]\n",
    "y_test = y[nrow:]"
   ]
  },
  {
   "cell_type": "code",
   "execution_count": 6,
   "id": "6bef8ebb-d8d6-436a-a24b-3d71a05c5570",
   "metadata": {},
   "outputs": [],
   "source": [
    "# X_train = X_train.values.reshape(X_train.shape[0],X_train.shape[1],1)\n",
    "# X_test = X_test.values.reshape(X_test.shape[0],X_test.shape[1],1)\n",
    "# print(X_train.shape)\n",
    "# print(X_test.shape)"
   ]
  },
  {
   "cell_type": "markdown",
   "id": "5bde89bc-008e-4e52-8e38-1640f0be2438",
   "metadata": {},
   "source": [
    "<h5 style=\"color:rgba(0, 0, 178, 0.6);\">Create a function that build a dynamic model that can change the shape of the NN model with hyper parameters(hp) parameters</h5>"
   ]
  },
  {
   "cell_type": "code",
   "execution_count": 7,
   "id": "af98799f-3192-4dbf-a4ec-21480b6ba2eb",
   "metadata": {},
   "outputs": [
    {
     "data": {
      "text/plain": [
       "Index(['y_step_1 QG', 'y_step_2 QG', 'y_step_3 QG', 'y_step_4 QG',\n",
       "       'y_step_5 QG', 'y_step_6 QG', 'y_step_7 QG', 'y_step_8 QG',\n",
       "       'y_step_9 QG', 'y_step_10 QG'],\n",
       "      dtype='object')"
      ]
     },
     "execution_count": 7,
     "metadata": {},
     "output_type": "execute_result"
    }
   ],
   "source": [
    "y_train.columns"
   ]
  },
  {
   "cell_type": "code",
   "execution_count": 13,
   "id": "5434de41-c85c-4f08-9e60-61d0947c0f96",
   "metadata": {},
   "outputs": [
    {
     "ename": "SyntaxError",
     "evalue": "unterminated string literal (detected at line 1) (583263141.py, line 1)",
     "output_type": "error",
     "traceback": [
      "\u001b[0;36m  Cell \u001b[0;32mIn[13], line 1\u001b[0;36m\u001b[0m\n\u001b[0;31m    model = Linodel.fit(X_train, QG\"])\u001b[0m\n\u001b[0m                                   ^\u001b[0m\n\u001b[0;31mSyntaxError\u001b[0m\u001b[0;31m:\u001b[0m unterminated string literal (detected at line 1)\n"
     ]
    }
   ],
   "source": [
    "ooel =odel.fit(X_train, QG\"])\n",
    "\n",
    "y_fit = pd.DataFrame(model.predict(X_train), index=X_train.index, columns=y.columns)\n",
    "y_pred = pd.DataFrame(model.predict(X_test), index=X_test.index, columns=y.columns)"
   ]
  },
  {
   "cell_type": "code",
   "execution_count": null,
   "id": "5016a4ee-091f-458d-9645-833802a8fd25",
   "metadata": {},
   "outputs": [],
   "source": []
  }
 ],
 "metadata": {
  "kernelspec": {
   "display_name": "Python 3 (ipykernel)",
   "language": "python",
   "name": "python3"
  },
  "language_info": {
   "codemirror_mode": {
    "name": "ipython",
    "version": 3
   },
   "file_extension": ".py",
   "mimetype": "text/x-python",
   "name": "python",
   "nbconvert_exporter": "python",
   "pygments_lexer": "ipython3",
   "version": "3.11.2"
  }
 },
 "nbformat": 4,
 "nbformat_minor": 5
}
